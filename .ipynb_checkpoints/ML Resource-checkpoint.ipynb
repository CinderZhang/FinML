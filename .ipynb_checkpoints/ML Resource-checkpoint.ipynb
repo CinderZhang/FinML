{
 "cells": [
  {
   "cell_type": "markdown",
   "metadata": {},
   "source": [
    "# Machine Learning\n",
    "#### *From Data to Knowledge*\n",
    "\n",
    "## 1. To Start\n",
    "\n",
    "\n",
    "### Lot of it \n",
    "* [GitHub Project](https://github.com/ujjwalkarn/Machine-Learning-Tutorials)\n",
    "** This repository contains a topic-wise curated list of Machine Learning and Deep Learning tutorials, articles and other resources. Other awesome lists can be found in this [list](https://github.com/sindresorhus/awesome).\n",
    "\n",
    "\n",
    "### The Cheat Sheet\n",
    "* [From SAS by Hui LI](https://blogs.sas.com/content/subconsciousmusings/2017/04/12/machine-learning-algorithm-use/)\n",
    "\n",
    "![Flow Chart](https://blogs.sas.com/content/subconsciousmusings/files/2017/04/machine-learning-cheet-sheet-2.png)\n"
   ]
  },
  {
   "cell_type": "markdown",
   "metadata": {},
   "source": [
    "## 2. Use Cases\n",
    "\n",
    "### Classics\n",
    "* [Fraud Detection](https://www.kaggle.com/arjunjoshua/predicting-fraud-in-financial-payment-services)\n",
    "\n",
    "### General\n",
    "* [From Kaggle-update quickly](https://www.kaggle.com/tags/finance)\n",
    "* [Dataiku Gallery](http://gallery.dataiku.com/home/)\n",
    "* [Dataiku Sample](https://www.dataiku.com/learn/samples/)"
   ]
  },
  {
   "cell_type": "markdown",
   "metadata": {},
   "source": [
    "## 3. Data\n",
    "\n",
    "* [Google Dataset Search](https://datasetsearch.research.google.com/)\n",
    "* * [Instruction for it](https://towardsdatascience.com/google-just-published-25-million-free-datasets-d83940e24284)\n",
    "\n",
    "* [Fannie Mae Loan Performance](https://capmrkt.fanniemae.com/portal/funding-the-market/data/loan-performance-data.html)\n",
    "\n",
    "* [Fedral Reserve St. Louis](https://research.stlouisfed.org/datatools.html)\n",
    "* * Federal Reserve Economic Data (FRED) is a database maintained by the Research division of the Federal Reserve Bank of St. Louis that has more than 765,000 economic time series from 96 sources.[1] The data can be viewed in graphical and text form or downloaded for import to a database or spreadsheet, and viewed on mobile devices. They cover banking, business/fiscal, consumer price indexes, employment and population, exchange rates, gross domestic product, interest rates, monetary aggregates, producer price indexes, reserves and monetary base, U.S. trade and international transactions, and U.S. financial data. The time series are compiled by the Federal Reserve and many are collected from government agencies such as the U.S. Census and the Bureau of Labor Statistics.The economic data published on FRED are widely reported in the media and play a key role in financial markets. In a 2012 Business Insider article titled \"The Most Amazing Economics Website in the World\", Joe Weisenthal quoted Paul Krugman as saying: \"I think just about everyone doing short-order research — trying to make sense of economic issues in more or less real time — has become a FRED fanatic.\"[Wiki](https://en.wikipedia.org/wiki/Federal_Reserve_Economic_Data#cite_note-2)\n",
    "\n",
    "* [Donald Trump's Rallies](https://www.kaggle.com/christianlillelund/donald-trumps-rallies)\n",
    "* * The dataset contains the full speeches that Donald Trump gave at 35 of his rallies. Ideal for natural language processing and sentiment analysis.The speeches are provided as txt files in full length.\n",
    "\n",
    "* * Inspiration\n",
    "* * * *NLP with Spacy and txt files: https://siddhantmaharana.github.io/blog/introduction-to-nlp-using-python-and-spacy/\n",
    "* * * *Other great NLP notebooks: https://www.kaggle.com/datatattle/covid-19-nlp-text-classification/notebooks\n",
    "\n",
    "* [Kaggle Datasets](https://www.kaggle.com/datasets)\n",
    "\n",
    "* [AWS Open Data Registry](https://registry.opendata.aws/)\n",
    "\n",
    "* [Covid 19-Wish to take it away...](https://datascience.nih.gov/covid-19-open-access-resources)\n",
    "* * [John Hopkins](https://coronavirus.jhu.edu/map.html)\n",
    "\n",
    "\n"
   ]
  },
  {
   "cell_type": "markdown",
   "metadata": {},
   "source": [
    "## 4. Code\n",
    "\n",
    "* [Finance Focused-Github](https://github.com/firmai/financial-machine-learning)\n",
    "* [Finance Focused-Quantopian](https://www.quantopian.com/posts/machine-learning-5)\n",
    "* [Fiance Focused-Quantconnect-Over simplified](https://www.quantconnect.com/docs/algorithm-reference/machine-learning)\n",
    "\n"
   ]
  },
  {
   "cell_type": "markdown",
   "metadata": {},
   "source": [
    "## Miscellaneous\n",
    "\n",
    "### In random...order...category\n",
    "* [Quantopian ML-Starts here, then Part 2...3...](https://www.quantopian.com/posts/machine-learning-on-quantopian-part-1-basics)\n",
    "* * [Quantopian is shuting down by Oct. 31st, 2020..Sadly...](https://www.quantopian.com/posts/quantopians-community-services-are-closing)\n",
    "* * * [Is QuantConnect/Backtrader a good alternative? Please comment!](https://randlow.github.io/posts/trading/trading-introduction/)\n",
    "* * * [JoinQuant: Another alternative if you know Chinese](https://randlow.github.io/posts/trading/trading-introduction/)\n",
    "\n",
    "* [The Quest for AI by Nils Nilsson](http://ai.stanford.edu/~nilsson/QAI/qai.pdf)\n",
    "\n",
    "* [Kaggle Intro to ML](https://www.kaggle.com/learn/intro-to-machine-learning)\n",
    "\n",
    "* [Dataiku ML Tutorial](https://academy.dataiku.com/page/ml-practitioner)\n",
    "\n",
    "* [Intro ML and AI from MIT](https://ocw.mit.edu/resources/res-ll-005-mathematics-of-big-data-and-machine-learning-january-iap-2020/)\n",
    "\n",
    "* [Quantopian Lectures-Not ML or AI](https://www.quantopian.com/lectures)\n"
   ]
  }
 ],
 "metadata": {
  "kernelspec": {
   "display_name": "Python 3",
   "language": "python",
   "name": "python3"
  },
  "language_info": {
   "codemirror_mode": {
    "name": "ipython",
    "version": 3
   },
   "file_extension": ".py",
   "mimetype": "text/x-python",
   "name": "python",
   "nbconvert_exporter": "python",
   "pygments_lexer": "ipython3",
   "version": "3.8.3"
  }
 },
 "nbformat": 4,
 "nbformat_minor": 4
}
