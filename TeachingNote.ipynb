{
 "cells": [
  {
   "cell_type": "markdown",
   "metadata": {},
   "source": [
    "# Machine Learning Steps\n",
    "\n",
    "## Simplified Steps\n",
    "* [7 Steps to Machine Learning](https://www.youtube.com/watch?list=PLIivdWyY5sqJxnwJhe3etaK7utrBiPBQ2&v=nKW8Ndu7Mjw&feature=emb_logo)\n",
    "\n"
   ]
  },
  {
   "cell_type": "markdown",
   "metadata": {},
   "source": [
    "\n",
    "1 - Data Collection\n",
    "\n",
    "The quantity & quality of your data dictate how accurate our model is\n",
    "The outcome of this step is generally a representation of data (Guo simplifies to specifying a table) which we will use for training\n",
    "Using pre-collected data, by way of datasets from Kaggle, UCI, etc., still fits into this step\n",
    " \n",
    "2 - Data Preparation\n",
    "\n",
    "Wrangle data and prepare it for training\n",
    "Clean that which may require it (remove duplicates, correct errors, deal with missing values, normalization, data type conversions, etc.)\n",
    "Randomize data, which erases the effects of the particular order in which we collected and/or otherwise prepared our data\n",
    "Visualize data to help detect relevant relationships between variables or class imbalances (bias alert!), or perform other exploratory analysis\n",
    "Split into training and evaluation sets\n",
    " \n",
    "3 - Choose a Model\n",
    "\n",
    "Different algorithms are for different tasks; choose the right one\n",
    " \n",
    "4 - Train the Model\n",
    "\n",
    "The goal of training is to answer a question or make a prediction correctly as often as possible\n",
    "Linear regression example: algorithm would need to learn values for m (or W) and b (x is input, y is output)\n",
    "Each iteration of process is a training step\n",
    " \n",
    "5 - Evaluate the Model\n",
    "\n",
    "Uses some metric or combination of metrics to \"measure\" objective performance of model\n",
    "Test the model against previously unseen data\n",
    "This unseen data is meant to be somewhat representative of model performance in the real world, but still helps tune the model (as opposed to test data, which does not)\n",
    "Good train/eval split? 80/20, 70/30, or similar, depending on domain, data availability, dataset particulars, etc.\n",
    " \n",
    "6 - Parameter Tuning\n",
    "\n",
    "This step refers to hyperparameter tuning, which is an \"artform\" as opposed to a science\n",
    "Tune model parameters for improved performance\n",
    "Simple model hyperparameters may include: number of training steps, learning rate, initialization values and distribution, etc.\n",
    " \n",
    "7 - Make Predictions\n",
    "\n",
    "Using further (test set) data which have, until this point, been withheld from the model (and for which class labels are known), are used to test the model; a better approximation of how the model will perform in the real world"
   ]
  },
  {
   "cell_type": "markdown",
   "metadata": {},
   "source": [
    "## Choosing the estimator (Learning method)\n",
    "\n",
    "[Choosing the estimator](https://scikit-learn.org/stable/tutorial/machine_learning_map/index.html)\n",
    "![Chart](https://scikit-learn.org/stable/_static/ml_map.png)\n"
   ]
  },
  {
   "cell_type": "code",
   "execution_count": null,
   "metadata": {},
   "outputs": [],
   "source": []
  }
 ],
 "metadata": {
  "kernelspec": {
   "display_name": "Python 3",
   "language": "python",
   "name": "python3"
  },
  "language_info": {
   "codemirror_mode": {
    "name": "ipython",
    "version": 3
   },
   "file_extension": ".py",
   "mimetype": "text/x-python",
   "name": "python",
   "nbconvert_exporter": "python",
   "pygments_lexer": "ipython3",
   "version": "3.8.3"
  }
 },
 "nbformat": 4,
 "nbformat_minor": 4
}
